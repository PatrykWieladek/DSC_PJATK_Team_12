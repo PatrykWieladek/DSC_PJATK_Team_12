{
 "cells": [
  {
   "cell_type": "markdown",
   "id": "01ef11c0-0055-4b2f-a910-0424fc9e89dc",
   "metadata": {},
   "source": [
    "### Importing libraries"
   ]
  },
  {
   "cell_type": "code",
   "execution_count": 25,
   "id": "b42a77a6-1c04-4560-b4e6-8d1f434c3926",
   "metadata": {},
   "outputs": [],
   "source": [
    "import pandas as pd\n",
    "from sklearn.model_selection import train_test_split\n",
    "from sklearn.ensemble import RandomForestRegressor\n",
    "from sklearn.ensemble import HistGradientBoostingRegressor\n",
    "from sklearn.model_selection import RandomizedSearchCV\n",
    "from sklearn.model_selection import GridSearchCV"
   ]
  },
  {
   "cell_type": "markdown",
   "id": "037186c0-c850-4791-84ee-e79307ae020b",
   "metadata": {},
   "source": [
    "## Data Preparation"
   ]
  },
  {
   "cell_type": "markdown",
   "id": "dfda020e-4990-41c2-aae7-77ec617a3146",
   "metadata": {},
   "source": [
    "### Original state of data"
   ]
  },
  {
   "cell_type": "code",
   "execution_count": 26,
   "id": "73c40fd9-7a2a-4791-9317-7502e82a4a98",
   "metadata": {},
   "outputs": [
    {
     "name": "stdout",
     "output_type": "stream",
     "text": [
      "Unprepared Training dataset: \n",
      "\n",
      "<class 'pandas.core.frame.DataFrame'>\n",
      "RangeIndex: 135397 entries, 0 to 135396\n",
      "Data columns (total 25 columns):\n",
      " #   Column                      Non-Null Count   Dtype  \n",
      "---  ------                      --------------   -----  \n",
      " 0   ID                          135397 non-null  int64  \n",
      " 1   Cena                        135397 non-null  int64  \n",
      " 2   Waluta                      132021 non-null  object \n",
      " 3   Stan                        132075 non-null  object \n",
      " 4   Marka_pojazdu               132046 non-null  object \n",
      " 5   Model_pojazdu               132088 non-null  object \n",
      " 6   Wersja_pojazdu              87336 non-null   object \n",
      " 7   Generacja_pojazdu           93737 non-null   object \n",
      " 8   Rok_produkcji               131990 non-null  float64\n",
      " 9   Przebieg_km                 131394 non-null  float64\n",
      " 10  Moc_KM                      131664 non-null  float64\n",
      " 11  Pojemnosc_cm3               130711 non-null  float64\n",
      " 12  Rodzaj_paliwa               131987 non-null  object \n",
      " 13  Emisja_CO2                  59497 non-null   float64\n",
      " 14  Naped                       122343 non-null  object \n",
      " 15  Skrzynia_biegow             131622 non-null  object \n",
      " 16  Typ_nadwozia                132038 non-null  object \n",
      " 17  Liczba_drzwi                131033 non-null  float64\n",
      " 18  Kolor                       131934 non-null  object \n",
      " 19  Kraj_pochodzenia            74977 non-null   object \n",
      " 20  Pierwszy_wlasciciel         40883 non-null   object \n",
      " 21  Data_pierwszej_rejestracji  54699 non-null   object \n",
      " 22  Data_publikacji_oferty      131948 non-null  object \n",
      " 23  Lokalizacja_oferty          132056 non-null  object \n",
      " 24  Wyposazenie                 132144 non-null  object \n",
      "dtypes: float64(6), int64(2), object(17)\n",
      "memory usage: 25.8+ MB\n",
      "Unprepared Testing dataset: \n",
      "\n",
      "<class 'pandas.core.frame.DataFrame'>\n",
      "RangeIndex: 72907 entries, 0 to 72906\n",
      "Data columns (total 24 columns):\n",
      " #   Column                      Non-Null Count  Dtype  \n",
      "---  ------                      --------------  -----  \n",
      " 0   ID                          72907 non-null  int64  \n",
      " 1   Waluta                      72907 non-null  object \n",
      " 2   Stan                        72907 non-null  object \n",
      " 3   Marka_pojazdu               72907 non-null  object \n",
      " 4   Model_pojazdu               72907 non-null  object \n",
      " 5   Wersja_pojazdu              48394 non-null  object \n",
      " 6   Generacja_pojazdu           51734 non-null  object \n",
      " 7   Rok_produkcji               72907 non-null  int64  \n",
      " 8   Przebieg_km                 72577 non-null  float64\n",
      " 9   Moc_KM                      72678 non-null  float64\n",
      " 10  Pojemnosc_cm3               72221 non-null  float64\n",
      " 11  Rodzaj_paliwa               72907 non-null  object \n",
      " 12  Emisja_CO2                  32946 non-null  float64\n",
      " 13  Naped                       67775 non-null  object \n",
      " 14  Skrzynia_biegow             72744 non-null  object \n",
      " 15  Typ_nadwozia                72907 non-null  object \n",
      " 16  Liczba_drzwi                72369 non-null  float64\n",
      " 17  Kolor                       72907 non-null  object \n",
      " 18  Kraj_pochodzenia            41425 non-null  object \n",
      " 19  Pierwszy_wlasciciel         23161 non-null  object \n",
      " 20  Data_pierwszej_rejestracji  30281 non-null  object \n",
      " 21  Data_publikacji_oferty      72907 non-null  object \n",
      " 22  Lokalizacja_oferty          72907 non-null  object \n",
      " 23  Wyposazenie                 72907 non-null  object \n",
      "dtypes: float64(5), int64(2), object(17)\n",
      "memory usage: 13.3+ MB\n",
      "Combined dataset: \n",
      "\n",
      "<class 'pandas.core.frame.DataFrame'>\n",
      "Index: 208304 entries, 0 to 72906\n",
      "Data columns (total 25 columns):\n",
      " #   Column                      Non-Null Count   Dtype  \n",
      "---  ------                      --------------   -----  \n",
      " 0   ID                          208304 non-null  int64  \n",
      " 1   Cena                        135397 non-null  float64\n",
      " 2   Waluta                      204928 non-null  object \n",
      " 3   Stan                        204982 non-null  object \n",
      " 4   Marka_pojazdu               204953 non-null  object \n",
      " 5   Model_pojazdu               204995 non-null  object \n",
      " 6   Wersja_pojazdu              135730 non-null  object \n",
      " 7   Generacja_pojazdu           145471 non-null  object \n",
      " 8   Rok_produkcji               204897 non-null  float64\n",
      " 9   Przebieg_km                 203971 non-null  float64\n",
      " 10  Moc_KM                      204342 non-null  float64\n",
      " 11  Pojemnosc_cm3               202932 non-null  float64\n",
      " 12  Rodzaj_paliwa               204894 non-null  object \n",
      " 13  Emisja_CO2                  92443 non-null   float64\n",
      " 14  Naped                       190118 non-null  object \n",
      " 15  Skrzynia_biegow             204366 non-null  object \n",
      " 16  Typ_nadwozia                204945 non-null  object \n",
      " 17  Liczba_drzwi                203402 non-null  float64\n",
      " 18  Kolor                       204841 non-null  object \n",
      " 19  Kraj_pochodzenia            116402 non-null  object \n",
      " 20  Pierwszy_wlasciciel         64044 non-null   object \n",
      " 21  Data_pierwszej_rejestracji  84980 non-null   object \n",
      " 22  Data_publikacji_oferty      204855 non-null  object \n",
      " 23  Lokalizacja_oferty          204963 non-null  object \n",
      " 24  Wyposazenie                 205051 non-null  object \n",
      "dtypes: float64(7), int64(1), object(17)\n",
      "memory usage: 41.3+ MB\n"
     ]
    }
   ],
   "source": [
    "#Training data\n",
    "data_train = pd.read_csv(\"data/sales_ads_train.csv\")\n",
    "print(\"Unprepared Training dataset: \\n\")\n",
    "data_train.info()\n",
    "\n",
    "#Testing data\n",
    "data_test = pd.read_csv(\"data/sales_ads_test.csv\")\n",
    "print(\"Unprepared Testing dataset: \\n\")\n",
    "data_test.info()\n",
    "test_id = data_test[\"ID\"].copy()\n",
    "\n",
    "# Combined data\n",
    "data = pd.concat([data_train, data_test])\n",
    "print(\"Combined dataset: \\n\")\n",
    "data.info()"
   ]
  },
  {
   "cell_type": "code",
   "execution_count": 29,
   "id": "32785f35-e3ea-46bb-bd41-605ce99fc5f7",
   "metadata": {},
   "outputs": [
    {
     "name": "stdout",
     "output_type": "stream",
     "text": [
      "Number of unique values: \n",
      "\n",
      "Waluta                             2\n",
      "Stan                               2\n",
      "Marka_pojazdu                    108\n",
      "Model_pojazdu                   1201\n",
      "Wersja_pojazdu                 18938\n",
      "Generacja_pojazdu                569\n",
      "Rodzaj_paliwa                      8\n",
      "Naped                              5\n",
      "Skrzynia_biegow                    2\n",
      "Typ_nadwozia                       9\n",
      "Kolor                             14\n",
      "Kraj_pochodzenia                  37\n",
      "Pierwszy_wlasciciel                1\n",
      "Data_pierwszej_rejestracji      8408\n",
      "Data_publikacji_oferty            41\n",
      "Lokalizacja_oferty             13574\n",
      "Wyposazenie                   174524\n",
      "dtype: int64\n"
     ]
    }
   ],
   "source": [
    "# Checking the number of unique Values\n",
    "print(\"Number of unique values: \\n\")\n",
    "nunique = data.select_dtypes(include=['object']).nunique()\n",
    "print(nunique)"
   ]
  },
  {
   "cell_type": "markdown",
   "id": "c6d26db3-21ed-4471-9fad-14a09e5939ab",
   "metadata": {},
   "source": [
    "### Data Preparation method"
   ]
  },
  {
   "cell_type": "code",
   "execution_count": 3,
   "id": "b3dae25a-286b-4999-a44e-9a33bd9094ba",
   "metadata": {},
   "outputs": [],
   "source": [
    "def data_preparation(data):\n",
    "    data_prepared = data.copy()\n",
    "    \n",
    "    # Droping the ID column\n",
    "    data_prepared = data_prepared.drop(\"ID\", axis = 1)\n",
    "    \n",
    "    # Changing \"Pierwszy_wlasciciel\" type to bool\n",
    "    data_prepared[\"Pierwszy_wlasciciel\"] = data_prepared[\"Pierwszy_wlasciciel\"].fillna(0)\n",
    "    with pd.option_context('future.no_silent_downcasting', True):\n",
    "        data_prepared[\"Pierwszy_wlasciciel\"] = data_prepared[\"Pierwszy_wlasciciel\"].replace('Yes', 1)\n",
    "    data_prepared[\"Pierwszy_wlasciciel\"] = data_prepared[\"Pierwszy_wlasciciel\"].astype('bool')\n",
    "\n",
    "    # Extracting year when car was registered and when the offer was posted\n",
    "    data_prepared[\"Rok_rejestracji\"] = data_prepared[\"Data_pierwszej_rejestracji\"].str.slice(-4)\n",
    "    data_prepared[\"Rok_oferty\"] = data_prepared[\"Data_publikacji_oferty\"].str.slice(-4)\n",
    "    \n",
    "    # Droping categorical columns that are too varied\n",
    "    data_prepared = data_prepared.drop(['Model_pojazdu',\n",
    "       'Wersja_pojazdu', 'Generacja_pojazdu', 'Data_pierwszej_rejestracji',\n",
    "       'Data_publikacji_oferty', 'Lokalizacja_oferty', 'Wyposazenie'], axis=1)\n",
    "\n",
    "    # Droping columns that seem to not affect the price of a car\n",
    "    data_prepared = data_prepared.drop('Kolor', axis=1)\n",
    "    \n",
    "    # Droping columns with too many missing values\n",
    "    data_prepared = data_prepared.drop('Emisja_CO2', axis=1)\n",
    "    \n",
    "    # Changing categorical atrributes to bool\n",
    "    data_prepared = pd.get_dummies(data_prepared)\n",
    "    \n",
    "    return data_prepared\n",
    "    "
   ]
  },
  {
   "cell_type": "markdown",
   "id": "9e0de777-3c97-4195-a8a5-5e87366fed16",
   "metadata": {},
   "source": [
    "### Prepared Data"
   ]
  },
  {
   "cell_type": "code",
   "execution_count": 4,
   "id": "3430c78f-3095-49cf-9dd3-dcd3370a39e0",
   "metadata": {},
   "outputs": [],
   "source": [
    "data_prepared = data_preparation(data)"
   ]
  },
  {
   "cell_type": "code",
   "execution_count": 5,
   "id": "bd4605de-ffa9-4313-b9b6-15454fec7872",
   "metadata": {},
   "outputs": [
    {
     "name": "stdout",
     "output_type": "stream",
     "text": [
      "<class 'pandas.core.frame.DataFrame'>\n",
      "Index: 135397 entries, 0 to 135396\n",
      "Columns: 333 entries, Cena to Rok_oferty_2021\n",
      "dtypes: bool(327), float64(6)\n",
      "memory usage: 49.5 MB\n",
      "<class 'pandas.core.frame.DataFrame'>\n",
      "Index: 72907 entries, 0 to 72906\n",
      "Columns: 332 entries, Rok_produkcji to Rok_oferty_2021\n",
      "dtypes: bool(327), float64(5)\n",
      "memory usage: 26.1 MB\n"
     ]
    }
   ],
   "source": [
    "# Spliting the data into training and testing datasets\n",
    "max_train_id = data_train.shape[0]\n",
    "X_test = data_prepared.iloc[max_train_id:]\n",
    "X_test = X_test.drop(\"Cena\", axis=1)\n",
    "data_train_prepared = data_prepared.iloc[:max_train_id]\n",
    "\n",
    "data_train_prepared.info()\n",
    "X_test.info()"
   ]
  },
  {
   "cell_type": "markdown",
   "id": "5ef01fe2-81d8-4b08-b703-76e8af40b120",
   "metadata": {},
   "source": [
    "### Spliting the dataset"
   ]
  },
  {
   "cell_type": "code",
   "execution_count": 6,
   "id": "e62a1f77-439c-4011-bb74-cc03b47b1c90",
   "metadata": {},
   "outputs": [],
   "source": [
    "# Features and target attribute\n",
    "y = data_train_prepared[\"Cena\"]\n",
    "X = data_train_prepared.drop(\"Cena\", axis=1)"
   ]
  },
  {
   "cell_type": "code",
   "execution_count": 7,
   "id": "84a2e2cf-95b5-4db5-b098-b960eac66b3a",
   "metadata": {},
   "outputs": [],
   "source": [
    "# Evaluation datasets\n",
    "X_train, X_evaluate, y_train, y_evaluate = train_test_split(\n",
    "    X, y, test_size=0.2, random_state=42)"
   ]
  },
  {
   "cell_type": "markdown",
   "id": "25061d68-4085-4daf-9fc4-cae0f30b2c58",
   "metadata": {},
   "source": [
    "## Training Models"
   ]
  },
  {
   "cell_type": "markdown",
   "id": "bdd0baee-ad1a-45c1-b858-0e41e2faab6d",
   "metadata": {},
   "source": [
    "### Random Forrest Regressor"
   ]
  },
  {
   "cell_type": "markdown",
   "id": "8b858b59-335c-4ca3-bde2-24cf45426f0e",
   "metadata": {},
   "source": [
    "#### Finding best parameters using Randomised Search"
   ]
  },
  {
   "cell_type": "code",
   "execution_count": 8,
   "id": "2e103b8b-40ba-4fbc-a2e3-6ac4f478d2ae",
   "metadata": {},
   "outputs": [],
   "source": [
    "rfr_model = RandomForestRegressor()\n",
    "params = {'n_estimators': [100, 200, 300],'max_depth': [None, 5, 10]}\n",
    "rfr_search = RandomizedSearchCV(rfr_model, param_distributions=params,n_iter = 20, cv = 3, verbose=2, random_state=42, n_jobs = -1)\n",
    "rfr_search = rfr_search.fit(X, y)"
   ]
  },
  {
   "cell_type": "code",
   "execution_count": 9,
   "id": "f554b587-f1fb-4d05-bccd-2df8f113ed09",
   "metadata": {},
   "outputs": [],
   "source": [
    "print(f\"Best parameters: {rfr_search.best_params_}\") \n",
    "best_n_estimators= rfr_search.best_params_[\"n_estimators\"]\n",
    "best_depth = rfr_search.best_params_[\"max_depth\"]\n",
    "\n",
    "# Found parameters:\n",
    "#best_n_estimators= 200\n",
    "#best_depth = None\n",
    "rfr_model = RandomForestRegressor(n_estimators = best_n_estimators, max_depth= best_depth )"
   ]
  },
  {
   "cell_type": "code",
   "execution_count": 10,
   "id": "1e964b75-c3db-42dd-92cb-9f5c1795a788",
   "metadata": {},
   "outputs": [],
   "source": [
    "evaluating_model = rfr_model.fit(X_train, y_train)"
   ]
  },
  {
   "cell_type": "markdown",
   "id": "80fd7d83-68ef-427b-8034-581d0be6871a",
   "metadata": {},
   "source": [
    "### Hist Gradient Boosting Regression"
   ]
  },
  {
   "cell_type": "markdown",
   "id": "02705672-6a4d-4ac5-b8b2-bd69b945b218",
   "metadata": {},
   "source": [
    "#### Finding the best Parameters"
   ]
  },
  {
   "cell_type": "code",
   "execution_count": 11,
   "id": "23e141de-7b25-4ba3-8153-40b10aa9f7a6",
   "metadata": {},
   "outputs": [],
   "source": [
    "hgbr_model = HistGradientBoostingRegressor()\n",
    "params = {'max_depth': [None, 5, 10],'learning_rate' : [0.001, 0.01, 0.1,],'max_iter': [20, 100, 400], 'max_leaf_nodes': [50, 100,200] }\n",
    "hgbr_search = GridSearchCV(hgbr_model, param_grid=params, cv = 3, n_jobs = -1)\n",
    "hgbr_search = hgbr_search.fit(X, y)\n"
   ]
  },
  {
   "cell_type": "code",
   "execution_count": 12,
   "id": "c00ef0ca-3de8-49a1-916a-40096783d0f0",
   "metadata": {},
   "outputs": [],
   "source": [
    "print(f\"Best parameters: {hgbr_search.best_params_}\")\n",
    "best_learning_rate = hgbr_search.best_params_[\"learning_rate\"]\n",
    "best_depth = hgbr_search.best_params_[\"max_depth\"]\n",
    "best_iter = hgbr_search.best_params_[\"max_iter\"]\n",
    "best_nodes = hgbr_search.best_params_[\"max__leaf_nodes\"]\n",
    "\n",
    "# Found parameters:\n",
    "#best_learning_rate = 0.1\n",
    "#best_depth = None\n",
    "#best_iter = 400\n",
    "#best_nodes = 100"
   ]
  },
  {
   "cell_type": "code",
   "execution_count": 13,
   "id": "8600a605-69f7-4e5a-9db6-5c63e1ff0933",
   "metadata": {},
   "outputs": [
    {
     "name": "stdout",
     "output_type": "stream",
     "text": [
      "Binning 0.259 GB of training data: 2.675 s\n",
      "Binning 0.029 GB of validation data: 0.025 s\n",
      "Fitting gradient boosted rounds:\n",
      "[1/400] 1 tree, 100 leaves, max depth = 10, train loss: 3323974589.26845, val loss: 3003973207.17525, in 0.206s\n",
      "[2/400] 1 tree, 100 leaves, max depth = 11, train loss: 2846101215.69238, val loss: 2542048230.67780, in 0.236s\n",
      "[3/400] 1 tree, 100 leaves, max depth = 10, train loss: 2457310873.18022, val loss: 2171984319.08590, in 0.192s\n",
      "[4/400] 1 tree, 100 leaves, max depth = 10, train loss: 2139484790.47588, val loss: 1874624790.26282, in 0.216s\n",
      "[5/400] 1 tree, 100 leaves, max depth = 11, train loss: 1879730712.26797, val loss: 1628245380.85054, in 0.199s\n",
      "[6/400] 1 tree, 100 leaves, max depth = 10, train loss: 1663839749.73758, val loss: 1429323939.67644, in 0.204s\n",
      "[7/400] 1 tree, 100 leaves, max depth = 13, train loss: 1484591623.63153, val loss: 1263782150.02387, in 0.197s\n",
      "[8/400] 1 tree, 100 leaves, max depth = 13, train loss: 1335981994.45687, val loss: 1129058498.67178, in 0.216s\n",
      "[9/400] 1 tree, 100 leaves, max depth = 11, train loss: 1211829102.02732, val loss: 1020768649.86561, in 0.202s\n",
      "[10/400] 1 tree, 100 leaves, max depth = 14, train loss: 1104580084.37151, val loss: 929026656.31311, in 0.202s\n",
      "[11/400] 1 tree, 100 leaves, max depth = 13, train loss: 1020623336.46677, val loss: 857788660.67336, in 0.195s\n",
      "[12/400] 1 tree, 100 leaves, max depth = 16, train loss: 946596833.22472, val loss: 796587908.99893, in 0.214s\n",
      "[13/400] 1 tree, 100 leaves, max depth = 12, train loss: 888103221.25238, val loss: 748117979.72538, in 0.194s\n",
      "[14/400] 1 tree, 100 leaves, max depth = 13, train loss: 836821975.84308, val loss: 709445975.12831, in 0.184s\n",
      "[15/400] 1 tree, 100 leaves, max depth = 13, train loss: 792094740.40295, val loss: 677380401.35215, in 0.205s\n",
      "[16/400] 1 tree, 100 leaves, max depth = 15, train loss: 753585458.64226, val loss: 649775863.48795, in 0.203s\n",
      "[17/400] 1 tree, 100 leaves, max depth = 12, train loss: 720216518.17397, val loss: 626831376.73033, in 0.189s\n",
      "[18/400] 1 tree, 100 leaves, max depth = 12, train loss: 692436463.88534, val loss: 608860895.20290, in 0.235s\n",
      "[19/400] 1 tree, 100 leaves, max depth = 12, train loss: 668189665.39075, val loss: 591989995.82228, in 0.181s\n",
      "[20/400] 1 tree, 100 leaves, max depth = 16, train loss: 645675828.39662, val loss: 579707349.70604, in 0.194s\n",
      "[21/400] 1 tree, 100 leaves, max depth = 16, train loss: 626215125.71493, val loss: 569272152.54531, in 0.203s\n",
      "[22/400] 1 tree, 100 leaves, max depth = 12, train loss: 609680348.32004, val loss: 558518556.32310, in 0.207s\n",
      "[23/400] 1 tree, 100 leaves, max depth = 13, train loss: 594820628.74114, val loss: 547565423.86519, in 0.190s\n",
      "[24/400] 1 tree, 100 leaves, max depth = 14, train loss: 579953354.74309, val loss: 534333681.43459, in 0.188s\n",
      "[25/400] 1 tree, 100 leaves, max depth = 13, train loss: 568350486.45137, val loss: 527508691.21406, in 0.254s\n",
      "[26/400] 1 tree, 100 leaves, max depth = 15, train loss: 557109696.38772, val loss: 519185715.01418, in 0.184s\n",
      "[27/400] 1 tree, 100 leaves, max depth = 14, train loss: 545235042.58208, val loss: 513813575.79598, in 0.217s\n",
      "[28/400] 1 tree, 100 leaves, max depth = 18, train loss: 534582572.55820, val loss: 510409983.48196, in 0.171s\n",
      "[29/400] 1 tree, 100 leaves, max depth = 17, train loss: 523961074.38242, val loss: 503316038.84152, in 0.180s\n",
      "[30/400] 1 tree, 100 leaves, max depth = 16, train loss: 516184309.43936, val loss: 502515367.31613, in 0.177s\n",
      "[31/400] 1 tree, 100 leaves, max depth = 19, train loss: 508492094.50641, val loss: 498656210.27304, in 0.173s\n",
      "[32/400] 1 tree, 100 leaves, max depth = 19, train loss: 501634610.84872, val loss: 496697635.61238, in 0.163s\n",
      "[33/400] 1 tree, 100 leaves, max depth = 22, train loss: 493295524.41863, val loss: 492032288.70644, in 0.179s\n",
      "[34/400] 1 tree, 100 leaves, max depth = 21, train loss: 485918028.93802, val loss: 487902891.58119, in 0.219s\n",
      "[35/400] 1 tree, 100 leaves, max depth = 21, train loss: 478580077.71407, val loss: 483821306.79620, in 0.188s\n",
      "[36/400] 1 tree, 100 leaves, max depth = 21, train loss: 473421833.01231, val loss: 481957326.04547, in 0.178s\n",
      "[37/400] 1 tree, 100 leaves, max depth = 22, train loss: 468959013.08141, val loss: 478977209.30521, in 0.180s\n",
      "[38/400] 1 tree, 100 leaves, max depth = 19, train loss: 464493373.69606, val loss: 478030296.38528, in 0.173s\n",
      "[39/400] 1 tree, 100 leaves, max depth = 19, train loss: 460675843.39563, val loss: 475936301.71920, in 0.161s\n",
      "[40/400] 1 tree, 100 leaves, max depth = 18, train loss: 455300973.31406, val loss: 474535311.47511, in 0.154s\n",
      "[41/400] 1 tree, 100 leaves, max depth = 21, train loss: 450091007.08941, val loss: 471163419.42857, in 0.183s\n",
      "[42/400] 1 tree, 100 leaves, max depth = 22, train loss: 445181937.34923, val loss: 468045193.29454, in 0.171s\n",
      "[43/400] 1 tree, 100 leaves, max depth = 21, train loss: 440826791.81070, val loss: 466198871.92337, in 0.166s\n",
      "[44/400] 1 tree, 100 leaves, max depth = 18, train loss: 437693974.81722, val loss: 464667564.84138, in 0.191s\n",
      "[45/400] 1 tree, 100 leaves, max depth = 26, train loss: 432969003.47867, val loss: 463943136.98708, in 0.167s\n",
      "[46/400] 1 tree, 100 leaves, max depth = 25, train loss: 428905675.10425, val loss: 462224708.06992, in 0.152s\n",
      "[47/400] 1 tree, 100 leaves, max depth = 24, train loss: 425683489.44514, val loss: 460757618.26461, in 0.172s\n",
      "[48/400] 1 tree, 100 leaves, max depth = 22, train loss: 421933942.70811, val loss: 459935823.44932, in 0.178s\n",
      "[49/400] 1 tree, 100 leaves, max depth = 26, train loss: 419350941.89431, val loss: 458975960.89509, in 0.150s\n",
      "[50/400] 1 tree, 100 leaves, max depth = 19, train loss: 416623833.04681, val loss: 458293397.81031, in 0.162s\n",
      "[51/400] 1 tree, 100 leaves, max depth = 26, train loss: 414222180.58381, val loss: 457242778.66681, in 0.152s\n",
      "[52/400] 1 tree, 100 leaves, max depth = 23, train loss: 410898335.43919, val loss: 456053673.39598, in 0.150s\n",
      "[53/400] 1 tree, 100 leaves, max depth = 29, train loss: 407522476.62483, val loss: 454418222.27477, in 0.170s\n",
      "[54/400] 1 tree, 100 leaves, max depth = 30, train loss: 405461692.65384, val loss: 453783306.65630, in 0.174s\n",
      "[55/400] 1 tree, 100 leaves, max depth = 28, train loss: 402420167.37812, val loss: 453804598.75792, in 0.166s\n",
      "[56/400] 1 tree, 100 leaves, max depth = 28, train loss: 399508593.76277, val loss: 454538175.47136, in 0.156s\n",
      "[57/400] 1 tree, 100 leaves, max depth = 23, train loss: 396807240.87208, val loss: 453619298.69754, in 0.174s\n",
      "[58/400] 1 tree, 100 leaves, max depth = 27, train loss: 395218157.52797, val loss: 451858609.14274, in 0.143s\n",
      "[59/400] 1 tree, 100 leaves, max depth = 21, train loss: 393399122.77226, val loss: 450519676.90514, in 0.161s\n",
      "[60/400] 1 tree, 100 leaves, max depth = 31, train loss: 391078488.43424, val loss: 451607072.35949, in 0.161s\n",
      "[61/400] 1 tree, 100 leaves, max depth = 27, train loss: 388429510.20145, val loss: 450395536.09473, in 0.161s\n",
      "[62/400] 1 tree, 100 leaves, max depth = 25, train loss: 386861603.59158, val loss: 448988788.22586, in 0.141s\n",
      "[63/400] 1 tree, 100 leaves, max depth = 26, train loss: 385076541.98881, val loss: 449518496.04726, in 0.164s\n",
      "[64/400] 1 tree, 100 leaves, max depth = 31, train loss: 383583393.03940, val loss: 449235806.91098, in 0.170s\n",
      "[65/400] 1 tree, 100 leaves, max depth = 30, train loss: 381518504.81982, val loss: 448302893.03953, in 0.162s\n",
      "[66/400] 1 tree, 100 leaves, max depth = 23, train loss: 379370600.44425, val loss: 450560207.11744, in 0.155s\n",
      "[67/400] 1 tree, 100 leaves, max depth = 21, train loss: 376422400.09530, val loss: 449315739.97156, in 0.181s\n",
      "[68/400] 1 tree, 100 leaves, max depth = 22, train loss: 373247582.42001, val loss: 447704840.71668, in 0.154s\n",
      "[69/400] 1 tree, 100 leaves, max depth = 30, train loss: 371097688.87275, val loss: 447104171.98226, in 0.184s\n",
      "[70/400] 1 tree, 100 leaves, max depth = 21, train loss: 370051255.87752, val loss: 446783302.03048, in 0.164s\n",
      "[71/400] 1 tree, 100 leaves, max depth = 21, train loss: 367508888.70767, val loss: 444953732.54509, in 0.175s\n",
      "[72/400] 1 tree, 100 leaves, max depth = 19, train loss: 366204378.64215, val loss: 443269822.85684, in 0.158s\n",
      "[73/400] 1 tree, 100 leaves, max depth = 19, train loss: 363493914.05279, val loss: 443481940.68121, in 0.164s\n",
      "[74/400] 1 tree, 100 leaves, max depth = 31, train loss: 362823412.78166, val loss: 443186950.24604, in 0.145s\n",
      "[75/400] 1 tree, 100 leaves, max depth = 25, train loss: 361472352.69538, val loss: 441862794.71694, in 0.143s\n",
      "[76/400] 1 tree, 100 leaves, max depth = 23, train loss: 359655238.50238, val loss: 441647223.33624, in 0.157s\n",
      "[77/400] 1 tree, 100 leaves, max depth = 22, train loss: 358642045.37129, val loss: 440249771.99605, in 0.200s\n",
      "[78/400] 1 tree, 100 leaves, max depth = 23, train loss: 357949429.74242, val loss: 440203524.79765, in 0.199s\n",
      "[79/400] 1 tree, 100 leaves, max depth = 23, train loss: 355739686.58219, val loss: 440237926.64793, in 0.160s\n",
      "[80/400] 1 tree, 100 leaves, max depth = 19, train loss: 354597419.75010, val loss: 439710369.78229, in 0.163s\n",
      "[81/400] 1 tree, 100 leaves, max depth = 17, train loss: 353459629.84417, val loss: 439154546.17962, in 0.159s\n",
      "[82/400] 1 tree, 100 leaves, max depth = 21, train loss: 351832514.29474, val loss: 437962563.55002, in 0.141s\n",
      "[83/400] 1 tree, 100 leaves, max depth = 26, train loss: 350979516.69632, val loss: 438086311.23630, in 0.144s\n",
      "[84/400] 1 tree, 100 leaves, max depth = 27, train loss: 349983416.13675, val loss: 437055162.64379, in 0.194s\n",
      "[85/400] 1 tree, 100 leaves, max depth = 23, train loss: 347844673.64034, val loss: 437039596.79540, in 0.163s\n",
      "[86/400] 1 tree, 100 leaves, max depth = 16, train loss: 346193174.03430, val loss: 437718155.90496, in 0.147s\n",
      "[87/400] 1 tree, 100 leaves, max depth = 23, train loss: 345044068.25038, val loss: 437458812.95718, in 0.145s\n",
      "[88/400] 1 tree, 100 leaves, max depth = 27, train loss: 343797115.86920, val loss: 436319551.17178, in 0.142s\n",
      "[89/400] 1 tree, 100 leaves, max depth = 19, train loss: 342556237.33711, val loss: 435100953.41939, in 0.130s\n",
      "[90/400] 1 tree, 100 leaves, max depth = 30, train loss: 341745745.09239, val loss: 434905135.18524, in 0.139s\n",
      "[91/400] 1 tree, 100 leaves, max depth = 31, train loss: 339678427.28106, val loss: 435752278.94025, in 0.199s\n",
      "[92/400] 1 tree, 100 leaves, max depth = 26, train loss: 338747954.48486, val loss: 435415742.64762, in 0.131s\n",
      "[93/400] 1 tree, 100 leaves, max depth = 24, train loss: 337811929.51255, val loss: 435233618.96490, in 0.142s\n",
      "[94/400] 1 tree, 100 leaves, max depth = 19, train loss: 335581622.36339, val loss: 435029248.21358, in 0.142s\n",
      "[95/400] 1 tree, 100 leaves, max depth = 25, train loss: 334209976.95333, val loss: 436009668.99224, in 0.170s\n",
      "[96/400] 1 tree, 100 leaves, max depth = 17, train loss: 333321342.02585, val loss: 435236800.49807, in 0.165s\n",
      "[97/400] 1 tree, 100 leaves, max depth = 21, train loss: 332388575.58614, val loss: 435507976.88103, in 0.140s\n",
      "[98/400] 1 tree, 100 leaves, max depth = 22, train loss: 331383384.68280, val loss: 434880410.55417, in 0.155s\n",
      "[99/400] 1 tree, 100 leaves, max depth = 23, train loss: 329306578.74935, val loss: 435164371.28207, in 0.158s\n",
      "[100/400] 1 tree, 100 leaves, max depth = 21, train loss: 328561847.30562, val loss: 434844354.23326, in 0.138s\n",
      "[101/400] 1 tree, 100 leaves, max depth = 21, train loss: 327855180.74909, val loss: 434473630.22718, in 0.138s\n",
      "[102/400] 1 tree, 100 leaves, max depth = 27, train loss: 327218747.82115, val loss: 434220429.00399, in 0.166s\n",
      "[103/400] 1 tree, 100 leaves, max depth = 21, train loss: 326546668.01102, val loss: 433516751.42081, in 0.137s\n",
      "[104/400] 1 tree, 100 leaves, max depth = 20, train loss: 325224171.74012, val loss: 433079527.65855, in 0.147s\n",
      "[105/400] 1 tree, 100 leaves, max depth = 24, train loss: 324269167.84632, val loss: 432948251.41906, in 0.137s\n",
      "[106/400] 1 tree, 100 leaves, max depth = 21, train loss: 322709510.74604, val loss: 433112743.91023, in 0.140s\n",
      "[107/400] 1 tree, 100 leaves, max depth = 30, train loss: 321118817.03214, val loss: 433127796.85306, in 0.176s\n",
      "[108/400] 1 tree, 100 leaves, max depth = 22, train loss: 320534100.21806, val loss: 432462165.84460, in 0.144s\n",
      "[109/400] 1 tree, 100 leaves, max depth = 25, train loss: 319857533.33133, val loss: 432032548.80436, in 0.131s\n",
      "[110/400] 1 tree, 100 leaves, max depth = 21, train loss: 319014068.19653, val loss: 431430461.18707, in 0.140s\n",
      "[111/400] 1 tree, 100 leaves, max depth = 21, train loss: 318530239.70567, val loss: 431569974.31940, in 0.145s\n",
      "[112/400] 1 tree, 100 leaves, max depth = 21, train loss: 317821914.02040, val loss: 431367820.78067, in 0.129s\n",
      "[113/400] 1 tree, 100 leaves, max depth = 18, train loss: 315842996.11704, val loss: 431239406.12146, in 0.154s\n",
      "[114/400] 1 tree, 100 leaves, max depth = 22, train loss: 314919105.48283, val loss: 430514735.96052, in 0.124s\n",
      "[115/400] 1 tree, 100 leaves, max depth = 19, train loss: 314267701.30656, val loss: 430840564.34921, in 0.128s\n",
      "[116/400] 1 tree, 100 leaves, max depth = 20, train loss: 313546586.89048, val loss: 430487108.00102, in 0.152s\n",
      "[117/400] 1 tree, 100 leaves, max depth = 21, train loss: 311832704.78467, val loss: 430348665.67456, in 0.133s\n",
      "[118/400] 1 tree, 100 leaves, max depth = 22, train loss: 311323102.86014, val loss: 430329028.16609, in 0.206s\n",
      "[119/400] 1 tree, 100 leaves, max depth = 23, train loss: 310791800.00097, val loss: 430085251.91059, in 0.190s\n",
      "[120/400] 1 tree, 100 leaves, max depth = 20, train loss: 310123830.93674, val loss: 429595656.69893, in 0.172s\n",
      "[121/400] 1 tree, 100 leaves, max depth = 17, train loss: 309810520.83969, val loss: 429119535.09652, in 0.166s\n",
      "[122/400] 1 tree, 100 leaves, max depth = 17, train loss: 309415750.49345, val loss: 429125096.17335, in 0.179s\n",
      "[123/400] 1 tree, 100 leaves, max depth = 27, train loss: 309021361.87442, val loss: 429020556.87901, in 0.160s\n",
      "[124/400] 1 tree, 100 leaves, max depth = 21, train loss: 308313743.53386, val loss: 428220280.37721, in 0.164s\n",
      "[125/400] 1 tree, 100 leaves, max depth = 32, train loss: 307952494.92665, val loss: 428358024.91710, in 0.159s\n",
      "[126/400] 1 tree, 100 leaves, max depth = 20, train loss: 306306569.81573, val loss: 428022103.04541, in 0.218s\n",
      "[127/400] 1 tree, 100 leaves, max depth = 22, train loss: 305074275.26784, val loss: 427158055.86074, in 0.215s\n",
      "[128/400] 1 tree, 100 leaves, max depth = 22, train loss: 304421249.54210, val loss: 427214711.41894, in 0.151s\n",
      "[129/400] 1 tree, 100 leaves, max depth = 26, train loss: 302506258.78270, val loss: 426673794.67224, in 0.175s\n",
      "[130/400] 1 tree, 100 leaves, max depth = 26, train loss: 301938340.05714, val loss: 426878652.50690, in 0.165s\n",
      "[131/400] 1 tree, 100 leaves, max depth = 22, train loss: 301220595.10816, val loss: 427386793.33605, in 0.176s\n",
      "[132/400] 1 tree, 100 leaves, max depth = 21, train loss: 299719626.48565, val loss: 426765123.94213, in 0.175s\n",
      "[133/400] 1 tree, 100 leaves, max depth = 27, train loss: 298981912.29181, val loss: 426337395.01416, in 0.150s\n",
      "[134/400] 1 tree, 100 leaves, max depth = 19, train loss: 298561392.88475, val loss: 426684074.05830, in 0.161s\n",
      "[135/400] 1 tree, 100 leaves, max depth = 17, train loss: 298120074.85562, val loss: 426422288.61303, in 0.166s\n",
      "[136/400] 1 tree, 100 leaves, max depth = 24, train loss: 297815802.23137, val loss: 426416037.99036, in 0.153s\n",
      "[137/400] 1 tree, 100 leaves, max depth = 19, train loss: 297145597.03699, val loss: 426739193.37471, in 0.191s\n",
      "[138/400] 1 tree, 100 leaves, max depth = 29, train loss: 296644078.26050, val loss: 427026321.39416, in 0.166s\n",
      "[139/400] 1 tree, 100 leaves, max depth = 22, train loss: 296058663.46411, val loss: 426791760.43557, in 0.143s\n",
      "[140/400] 1 tree, 100 leaves, max depth = 18, train loss: 294886550.52379, val loss: 426155592.00999, in 0.197s\n",
      "[141/400] 1 tree, 100 leaves, max depth = 20, train loss: 294464094.23712, val loss: 426015393.58972, in 0.204s\n",
      "[142/400] 1 tree, 100 leaves, max depth = 23, train loss: 294014533.95433, val loss: 425838535.42048, in 0.153s\n",
      "[143/400] 1 tree, 100 leaves, max depth = 24, train loss: 293657337.88541, val loss: 426168545.88695, in 0.153s\n",
      "[144/400] 1 tree, 100 leaves, max depth = 22, train loss: 292017043.50100, val loss: 425668430.94952, in 0.179s\n",
      "[145/400] 1 tree, 100 leaves, max depth = 24, train loss: 290868513.29794, val loss: 425794323.58672, in 0.193s\n",
      "[146/400] 1 tree, 100 leaves, max depth = 28, train loss: 290513601.56001, val loss: 425844250.95275, in 0.199s\n",
      "[147/400] 1 tree, 100 leaves, max depth = 20, train loss: 289928675.28241, val loss: 425765491.98284, in 0.159s\n",
      "[148/400] 1 tree, 100 leaves, max depth = 19, train loss: 289553031.01492, val loss: 425706348.62903, in 0.164s\n",
      "[149/400] 1 tree, 100 leaves, max depth = 18, train loss: 289351003.97733, val loss: 425833586.11995, in 0.160s\n",
      "[150/400] 1 tree, 100 leaves, max depth = 24, train loss: 288901000.65405, val loss: 425656502.34387, in 0.155s\n",
      "[151/400] 1 tree, 100 leaves, max depth = 22, train loss: 287602712.91730, val loss: 425355338.58124, in 0.178s\n",
      "[152/400] 1 tree, 100 leaves, max depth = 20, train loss: 287180832.13497, val loss: 425662559.90397, in 0.147s\n",
      "[153/400] 1 tree, 100 leaves, max depth = 26, train loss: 286870766.48058, val loss: 425883403.14348, in 0.142s\n",
      "[154/400] 1 tree, 100 leaves, max depth = 19, train loss: 286561390.92112, val loss: 425515166.71656, in 0.146s\n",
      "[155/400] 1 tree, 100 leaves, max depth = 29, train loss: 285195583.42244, val loss: 424679566.27544, in 0.198s\n",
      "[156/400] 1 tree, 100 leaves, max depth = 25, train loss: 284874220.63119, val loss: 424529360.47431, in 0.216s\n",
      "[157/400] 1 tree, 100 leaves, max depth = 23, train loss: 284484060.91803, val loss: 424543578.12984, in 0.173s\n",
      "[158/400] 1 tree, 100 leaves, max depth = 21, train loss: 284222716.44598, val loss: 424495767.76693, in 0.154s\n",
      "[159/400] 1 tree, 100 leaves, max depth = 27, train loss: 283649856.47895, val loss: 424479711.48272, in 0.155s\n",
      "[160/400] 1 tree, 100 leaves, max depth = 26, train loss: 283137150.42554, val loss: 424735848.56179, in 0.157s\n",
      "[161/400] 1 tree, 100 leaves, max depth = 20, train loss: 282771638.90989, val loss: 424791647.81948, in 0.199s\n",
      "[162/400] 1 tree, 100 leaves, max depth = 31, train loss: 282417077.37155, val loss: 424508527.02674, in 0.154s\n",
      "[163/400] 1 tree, 100 leaves, max depth = 20, train loss: 282051451.59606, val loss: 424533146.20796, in 0.140s\n",
      "[164/400] 1 tree, 100 leaves, max depth = 15, train loss: 281727792.57461, val loss: 424210288.47360, in 0.167s\n",
      "[165/400] 1 tree, 100 leaves, max depth = 25, train loss: 281060399.81240, val loss: 424132647.61674, in 0.143s\n",
      "[166/400] 1 tree, 100 leaves, max depth = 17, train loss: 280702080.72012, val loss: 423934043.59523, in 0.156s\n",
      "[167/400] 1 tree, 100 leaves, max depth = 29, train loss: 280206437.53256, val loss: 424313568.98610, in 0.143s\n",
      "[168/400] 1 tree, 100 leaves, max depth = 22, train loss: 279390885.21969, val loss: 424567313.83365, in 0.151s\n",
      "[169/400] 1 tree, 100 leaves, max depth = 17, train loss: 278998090.64168, val loss: 424158233.79862, in 0.157s\n",
      "[170/400] 1 tree, 100 leaves, max depth = 22, train loss: 277908262.65468, val loss: 424722204.04918, in 0.161s\n",
      "[171/400] 1 tree, 100 leaves, max depth = 25, train loss: 277652340.32941, val loss: 424523576.42928, in 0.145s\n",
      "[172/400] 1 tree, 100 leaves, max depth = 16, train loss: 275969984.90664, val loss: 424114665.72104, in 0.172s\n",
      "[173/400] 1 tree, 100 leaves, max depth = 25, train loss: 275316965.57256, val loss: 424844462.51988, in 0.130s\n",
      "[174/400] 1 tree, 100 leaves, max depth = 20, train loss: 274752411.06621, val loss: 424658912.59083, in 0.142s\n",
      "[175/400] 1 tree, 100 leaves, max depth = 20, train loss: 274390685.24192, val loss: 424756770.81996, in 0.173s\n",
      "[176/400] 1 tree, 100 leaves, max depth = 16, train loss: 273944475.69585, val loss: 424139789.06719, in 0.154s\n",
      "Fit 176 trees in 34.718 s, (17600 total leaves)\n",
      "Time spent computing histograms: 23.966s\n",
      "Time spent finding best splits:  0.916s\n",
      "Time spent applying splits:      1.023s\n",
      "Time spent predicting:           0.083s\n"
     ]
    }
   ],
   "source": [
    "hgbr_model = HistGradientBoostingRegressor(learning_rate=best_learning_rate,max_depth=best_depth, max_iter=best_iter, verbose=2, random_state=42,max_leaf_nodes=best_nodes)\n",
    "evaluating_model = hgbr_model.fit(X_train, y_train)"
   ]
  },
  {
   "cell_type": "markdown",
   "id": "10f82b94-cdae-44c4-8d2c-d1ee82b8a0b3",
   "metadata": {},
   "source": [
    "### Evaluating the model"
   ]
  },
  {
   "cell_type": "code",
   "execution_count": 14,
   "id": "bdbb6195-18e7-48ca-a769-d99fc9950214",
   "metadata": {},
   "outputs": [
    {
     "name": "stdout",
     "output_type": "stream",
     "text": [
      "The result of an evaluation: 27528.563857948884\n"
     ]
    }
   ],
   "source": [
    "import numpy as np \n",
    "\n",
    "y_pred = evaluating_model.predict(X_evaluate)\n",
    "RMSE = np.sqrt(((y_pred - y_evaluate)**2).mean())\n",
    "print(f\"The result of an evaluation: {RMSE}\")\n"
   ]
  },
  {
   "cell_type": "markdown",
   "id": "7ce45aca-1d11-4016-a71d-acf22fb42692",
   "metadata": {},
   "source": [
    "### Testing the final model"
   ]
  },
  {
   "cell_type": "code",
   "execution_count": 15,
   "id": "7402687b-8838-4152-8c01-97596d7ec71d",
   "metadata": {},
   "outputs": [
    {
     "name": "stdout",
     "output_type": "stream",
     "text": [
      "Binning 0.324 GB of training data: 4.908 s\n",
      "Binning 0.036 GB of validation data: 0.191 s\n",
      "Fitting gradient boosted rounds:\n",
      "[1/400] 1 tree, 100 leaves, max depth = 11, train loss: 3311354233.55629, val loss: 3115133067.68778, in 0.358s\n",
      "[2/400] 1 tree, 100 leaves, max depth = 11, train loss: 2834730986.56259, val loss: 2640393678.65048, in 0.493s\n",
      "[3/400] 1 tree, 100 leaves, max depth = 12, train loss: 2444732315.09709, val loss: 2253640778.08848, in 0.482s\n",
      "[4/400] 1 tree, 100 leaves, max depth = 10, train loss: 2126626309.46838, val loss: 1936396728.74527, in 0.342s\n",
      "[5/400] 1 tree, 100 leaves, max depth = 11, train loss: 1861989143.12945, val loss: 1681608424.97639, in 0.270s\n",
      "[6/400] 1 tree, 100 leaves, max depth = 11, train loss: 1643777076.86404, val loss: 1462811823.38445, in 0.250s\n",
      "[7/400] 1 tree, 100 leaves, max depth = 12, train loss: 1461622109.77945, val loss: 1276614239.46544, in 0.237s\n",
      "[8/400] 1 tree, 100 leaves, max depth = 12, train loss: 1310666506.27238, val loss: 1128065907.81731, in 0.320s\n",
      "[9/400] 1 tree, 100 leaves, max depth = 12, train loss: 1187299592.12561, val loss: 1010986074.95193, in 0.552s\n",
      "[10/400] 1 tree, 100 leaves, max depth = 13, train loss: 1083046028.33489, val loss: 911791341.84426, in 3.131s\n",
      "[11/400] 1 tree, 100 leaves, max depth = 15, train loss: 997369894.02791, val loss: 834515339.19675, in 1.102s\n",
      "[12/400] 1 tree, 100 leaves, max depth = 13, train loss: 924075082.30605, val loss: 767883485.95631, in 0.689s\n",
      "[13/400] 1 tree, 100 leaves, max depth = 11, train loss: 860896319.20022, val loss: 717314754.45934, in 0.483s\n",
      "[14/400] 1 tree, 100 leaves, max depth = 14, train loss: 806634036.93127, val loss: 671833549.66759, in 0.517s\n",
      "[15/400] 1 tree, 100 leaves, max depth = 12, train loss: 761073820.04186, val loss: 628572718.61665, in 0.403s\n",
      "[16/400] 1 tree, 100 leaves, max depth = 14, train loss: 722350420.79388, val loss: 593899654.31921, in 0.453s\n",
      "[17/400] 1 tree, 100 leaves, max depth = 11, train loss: 688800262.78142, val loss: 564612780.71207, in 0.375s\n",
      "[18/400] 1 tree, 100 leaves, max depth = 16, train loss: 657417392.91827, val loss: 542964774.94467, in 0.338s\n",
      "[19/400] 1 tree, 100 leaves, max depth = 14, train loss: 632839771.18370, val loss: 521644171.41192, in 0.308s\n",
      "[20/400] 1 tree, 100 leaves, max depth = 13, train loss: 609297947.27208, val loss: 505360334.61409, in 0.319s\n",
      "[21/400] 1 tree, 100 leaves, max depth = 17, train loss: 589110603.15954, val loss: 493590885.72925, in 0.275s\n",
      "[22/400] 1 tree, 100 leaves, max depth = 13, train loss: 572042236.42078, val loss: 480209426.00952, in 0.269s\n",
      "[23/400] 1 tree, 100 leaves, max depth = 16, train loss: 556473779.83560, val loss: 468852638.37129, in 0.291s\n",
      "[24/400] 1 tree, 100 leaves, max depth = 12, train loss: 543086670.54156, val loss: 461124585.83948, in 0.277s\n",
      "[25/400] 1 tree, 100 leaves, max depth = 17, train loss: 530595252.56387, val loss: 453589822.75436, in 0.279s\n",
      "[26/400] 1 tree, 100 leaves, max depth = 14, train loss: 518260224.66606, val loss: 443677374.33800, in 0.319s\n",
      "[27/400] 1 tree, 100 leaves, max depth = 16, train loss: 507984869.47645, val loss: 433633140.82411, in 0.356s\n",
      "[28/400] 1 tree, 100 leaves, max depth = 18, train loss: 496925116.25098, val loss: 427002382.62492, in 0.315s\n",
      "[29/400] 1 tree, 100 leaves, max depth = 23, train loss: 489036895.27258, val loss: 420743502.22103, in 0.322s\n",
      "[30/400] 1 tree, 100 leaves, max depth = 18, train loss: 481621839.68359, val loss: 415464561.97900, in 0.285s\n",
      "[31/400] 1 tree, 100 leaves, max depth = 17, train loss: 472811438.65412, val loss: 408679605.71369, in 0.321s\n",
      "[32/400] 1 tree, 100 leaves, max depth = 15, train loss: 465232461.65951, val loss: 404780972.45955, in 0.297s\n",
      "[33/400] 1 tree, 100 leaves, max depth = 16, train loss: 458949904.49311, val loss: 401068136.92857, in 0.250s\n",
      "[34/400] 1 tree, 100 leaves, max depth = 19, train loss: 452977599.92743, val loss: 399390811.10572, in 0.234s\n",
      "[35/400] 1 tree, 100 leaves, max depth = 20, train loss: 446361625.06001, val loss: 393696301.16608, in 0.270s\n",
      "[36/400] 1 tree, 100 leaves, max depth = 15, train loss: 441490093.70313, val loss: 393042390.98034, in 0.230s\n",
      "[37/400] 1 tree, 100 leaves, max depth = 21, train loss: 436698285.34138, val loss: 391993169.37126, in 0.275s\n",
      "[38/400] 1 tree, 100 leaves, max depth = 22, train loss: 432297789.59165, val loss: 387731315.14049, in 0.268s\n",
      "[39/400] 1 tree, 100 leaves, max depth = 20, train loss: 427700213.45327, val loss: 385626257.50716, in 0.256s\n",
      "[40/400] 1 tree, 100 leaves, max depth = 19, train loss: 422805027.74723, val loss: 384720978.78726, in 0.298s\n",
      "[41/400] 1 tree, 100 leaves, max depth = 25, train loss: 419646859.85159, val loss: 382522904.11219, in 0.334s\n",
      "[42/400] 1 tree, 100 leaves, max depth = 21, train loss: 415210197.00611, val loss: 381819351.03923, in 0.292s\n",
      "[43/400] 1 tree, 100 leaves, max depth = 23, train loss: 412092386.74956, val loss: 378385038.05566, in 0.271s\n",
      "[44/400] 1 tree, 100 leaves, max depth = 23, train loss: 409193662.25674, val loss: 377037790.71778, in 0.245s\n",
      "[45/400] 1 tree, 100 leaves, max depth = 19, train loss: 405800918.09042, val loss: 374443572.09794, in 0.244s\n",
      "[46/400] 1 tree, 100 leaves, max depth = 19, train loss: 401502124.68561, val loss: 372748657.31490, in 0.269s\n",
      "[47/400] 1 tree, 100 leaves, max depth = 25, train loss: 398895536.64638, val loss: 369535963.04952, in 0.254s\n",
      "[48/400] 1 tree, 100 leaves, max depth = 18, train loss: 395488932.36144, val loss: 369499173.95601, in 0.226s\n",
      "[49/400] 1 tree, 100 leaves, max depth = 27, train loss: 393295992.20193, val loss: 367627272.15086, in 0.206s\n",
      "[50/400] 1 tree, 100 leaves, max depth = 24, train loss: 390287902.40564, val loss: 367534578.51093, in 0.213s\n",
      "[51/400] 1 tree, 100 leaves, max depth = 26, train loss: 388036918.54892, val loss: 366585705.80620, in 0.245s\n",
      "[52/400] 1 tree, 100 leaves, max depth = 25, train loss: 385397605.92942, val loss: 366578015.80036, in 0.224s\n",
      "[53/400] 1 tree, 100 leaves, max depth = 23, train loss: 382500720.09244, val loss: 366085181.44798, in 0.203s\n",
      "[54/400] 1 tree, 100 leaves, max depth = 30, train loss: 380661999.76160, val loss: 365177266.91933, in 0.252s\n",
      "[55/400] 1 tree, 100 leaves, max depth = 25, train loss: 378556996.90585, val loss: 364087725.25073, in 0.229s\n",
      "[56/400] 1 tree, 100 leaves, max depth = 34, train loss: 376436105.57028, val loss: 362631273.12268, in 0.246s\n",
      "[57/400] 1 tree, 100 leaves, max depth = 30, train loss: 374497318.54961, val loss: 361192576.40369, in 0.203s\n",
      "[58/400] 1 tree, 100 leaves, max depth = 22, train loss: 371450911.90948, val loss: 360678177.09117, in 0.205s\n",
      "[59/400] 1 tree, 100 leaves, max depth = 32, train loss: 369790757.87972, val loss: 358977865.30236, in 0.240s\n",
      "[60/400] 1 tree, 100 leaves, max depth = 36, train loss: 367312010.59116, val loss: 358913339.01187, in 0.261s\n",
      "[61/400] 1 tree, 100 leaves, max depth = 29, train loss: 365778623.35540, val loss: 358428675.91652, in 0.225s\n",
      "[62/400] 1 tree, 100 leaves, max depth = 28, train loss: 364024333.30436, val loss: 356961467.69082, in 0.208s\n",
      "[63/400] 1 tree, 100 leaves, max depth = 29, train loss: 361188566.44196, val loss: 355395052.91697, in 0.235s\n",
      "[64/400] 1 tree, 100 leaves, max depth = 29, train loss: 359408553.53893, val loss: 355112241.79394, in 0.244s\n",
      "[65/400] 1 tree, 100 leaves, max depth = 24, train loss: 357530755.69410, val loss: 354161802.64552, in 0.245s\n",
      "[66/400] 1 tree, 100 leaves, max depth = 31, train loss: 356067061.48846, val loss: 353940023.51859, in 0.226s\n",
      "[67/400] 1 tree, 100 leaves, max depth = 18, train loss: 354125673.63025, val loss: 351878186.11896, in 0.189s\n",
      "[68/400] 1 tree, 100 leaves, max depth = 27, train loss: 352924493.14298, val loss: 351166547.60668, in 0.203s\n",
      "[69/400] 1 tree, 100 leaves, max depth = 23, train loss: 351594223.96259, val loss: 350797034.29945, in 0.218s\n",
      "[70/400] 1 tree, 100 leaves, max depth = 23, train loss: 350030879.93405, val loss: 350105526.49642, in 0.220s\n",
      "[71/400] 1 tree, 100 leaves, max depth = 22, train loss: 347692111.91490, val loss: 349364367.97369, in 0.239s\n",
      "[72/400] 1 tree, 100 leaves, max depth = 17, train loss: 345065362.90018, val loss: 349372072.12426, in 0.213s\n",
      "[73/400] 1 tree, 100 leaves, max depth = 26, train loss: 342954451.41558, val loss: 349117810.45130, in 0.247s\n",
      "[74/400] 1 tree, 100 leaves, max depth = 20, train loss: 341754161.88122, val loss: 347468910.83507, in 0.217s\n",
      "[75/400] 1 tree, 100 leaves, max depth = 28, train loss: 340414005.72629, val loss: 347682863.77905, in 0.238s\n",
      "[76/400] 1 tree, 100 leaves, max depth = 20, train loss: 339059814.88167, val loss: 346122902.73189, in 0.204s\n",
      "[77/400] 1 tree, 100 leaves, max depth = 24, train loss: 337630776.35229, val loss: 346621218.58791, in 0.193s\n",
      "[78/400] 1 tree, 100 leaves, max depth = 21, train loss: 336418295.18516, val loss: 345146038.98522, in 0.244s\n",
      "[79/400] 1 tree, 100 leaves, max depth = 22, train loss: 335303270.71159, val loss: 345001481.51041, in 0.196s\n",
      "[80/400] 1 tree, 100 leaves, max depth = 27, train loss: 334099485.97688, val loss: 344861401.06870, in 0.194s\n",
      "[81/400] 1 tree, 100 leaves, max depth = 20, train loss: 332676774.58807, val loss: 345007043.49085, in 0.185s\n",
      "[82/400] 1 tree, 100 leaves, max depth = 22, train loss: 331627378.80524, val loss: 344521643.74317, in 0.224s\n",
      "[83/400] 1 tree, 100 leaves, max depth = 24, train loss: 329850226.98488, val loss: 343449037.58291, in 0.226s\n",
      "[84/400] 1 tree, 100 leaves, max depth = 20, train loss: 328958899.75701, val loss: 343067391.65738, in 0.173s\n",
      "[85/400] 1 tree, 100 leaves, max depth = 17, train loss: 327575327.24947, val loss: 341293583.31164, in 0.227s\n",
      "[86/400] 1 tree, 100 leaves, max depth = 21, train loss: 326543994.88162, val loss: 340296926.07985, in 0.210s\n",
      "[87/400] 1 tree, 100 leaves, max depth = 23, train loss: 325463264.08648, val loss: 340700257.37421, in 0.223s\n",
      "[88/400] 1 tree, 100 leaves, max depth = 20, train loss: 324723015.08804, val loss: 340335910.09988, in 0.220s\n",
      "[89/400] 1 tree, 100 leaves, max depth = 21, train loss: 324004414.21118, val loss: 340476086.07125, in 0.247s\n",
      "[90/400] 1 tree, 100 leaves, max depth = 31, train loss: 323256412.00230, val loss: 340073164.96162, in 0.252s\n",
      "[91/400] 1 tree, 100 leaves, max depth = 16, train loss: 322334317.26104, val loss: 339610782.14777, in 0.249s\n",
      "[92/400] 1 tree, 100 leaves, max depth = 27, train loss: 321219563.75503, val loss: 337923815.41586, in 0.287s\n",
      "[93/400] 1 tree, 100 leaves, max depth = 23, train loss: 320417828.96719, val loss: 338120609.73443, in 0.204s\n",
      "[94/400] 1 tree, 100 leaves, max depth = 20, train loss: 318436392.04793, val loss: 338718692.76120, in 0.226s\n",
      "[95/400] 1 tree, 100 leaves, max depth = 22, train loss: 317012308.32571, val loss: 337480068.04740, in 0.209s\n",
      "[96/400] 1 tree, 100 leaves, max depth = 28, train loss: 316376207.53112, val loss: 337122493.02063, in 0.239s\n",
      "[97/400] 1 tree, 100 leaves, max depth = 26, train loss: 315627009.58128, val loss: 336499521.50077, in 0.228s\n",
      "[98/400] 1 tree, 100 leaves, max depth = 17, train loss: 315040164.36607, val loss: 336476827.99449, in 0.206s\n",
      "[99/400] 1 tree, 100 leaves, max depth = 19, train loss: 314349212.74925, val loss: 335758187.42609, in 0.225s\n",
      "[100/400] 1 tree, 100 leaves, max depth = 23, train loss: 313403271.04438, val loss: 336148831.75379, in 0.202s\n",
      "[101/400] 1 tree, 100 leaves, max depth = 26, train loss: 312967100.95135, val loss: 336050620.68160, in 0.202s\n",
      "[102/400] 1 tree, 100 leaves, max depth = 20, train loss: 312594698.54548, val loss: 335962742.89828, in 0.222s\n",
      "[103/400] 1 tree, 100 leaves, max depth = 17, train loss: 310891164.07048, val loss: 335694551.10162, in 0.191s\n",
      "[104/400] 1 tree, 100 leaves, max depth = 18, train loss: 309175519.46974, val loss: 336000906.30319, in 0.239s\n",
      "[105/400] 1 tree, 100 leaves, max depth = 26, train loss: 308524100.99942, val loss: 335611194.82015, in 0.198s\n",
      "[106/400] 1 tree, 100 leaves, max depth = 27, train loss: 307740631.82336, val loss: 335164927.49266, in 0.194s\n",
      "[107/400] 1 tree, 100 leaves, max depth = 20, train loss: 306831583.22294, val loss: 335585407.51216, in 0.205s\n",
      "[108/400] 1 tree, 100 leaves, max depth = 21, train loss: 306149948.27984, val loss: 336244400.27033, in 0.174s\n",
      "[109/400] 1 tree, 100 leaves, max depth = 20, train loss: 305658255.29093, val loss: 336310808.97143, in 0.211s\n",
      "[110/400] 1 tree, 100 leaves, max depth = 20, train loss: 304811551.83317, val loss: 336083117.06356, in 0.183s\n",
      "[111/400] 1 tree, 100 leaves, max depth = 27, train loss: 304206442.81551, val loss: 336490688.76491, in 0.218s\n",
      "[112/400] 1 tree, 100 leaves, max depth = 19, train loss: 303627987.09937, val loss: 336225003.72266, in 0.221s\n",
      "[113/400] 1 tree, 100 leaves, max depth = 21, train loss: 302842208.06631, val loss: 336185062.50857, in 0.226s\n",
      "[114/400] 1 tree, 100 leaves, max depth = 20, train loss: 302299729.76015, val loss: 336075342.44902, in 0.202s\n",
      "[115/400] 1 tree, 100 leaves, max depth = 19, train loss: 301168720.29691, val loss: 336500909.43020, in 0.229s\n",
      "[116/400] 1 tree, 100 leaves, max depth = 16, train loss: 300572685.77476, val loss: 336119636.49501, in 0.200s\n",
      "Fit 116 trees in 42.067 s, (11600 total leaves)\n",
      "Time spent computing histograms: 26.573s\n",
      "Time spent finding best splits:  1.880s\n",
      "Time spent applying splits:      2.018s\n",
      "Time spent predicting:           0.067s\n"
     ]
    }
   ],
   "source": [
    "final_model = HistGradientBoostingRegressor(learning_rate=0.1,max_depth=None, max_iter=400, verbose=2, random_state=42,max_leaf_nodes=100)\n",
    "final_model = final_model.fit(X, y)\n",
    "y_pred = final_model.predict(X_test)"
   ]
  },
  {
   "cell_type": "code",
   "execution_count": 16,
   "id": "041ece32-ced1-42b4-99d3-6bb1293fe8ae",
   "metadata": {},
   "outputs": [
    {
     "name": "stdout",
     "output_type": "stream",
     "text": [
      "          ID           Cena\n",
      "0          1  218548.199148\n",
      "1          2   16558.775377\n",
      "2          3   21161.558656\n",
      "3          4   95835.893940\n",
      "4          5   96063.159750\n",
      "...      ...            ...\n",
      "72902  72903  112090.495829\n",
      "72903  72904   28589.505268\n",
      "72904  72905   63512.810018\n",
      "72905  72906   23419.491264\n",
      "72906  72907  184498.921099\n",
      "\n",
      "[72907 rows x 2 columns]\n"
     ]
    }
   ],
   "source": [
    "result = pd.DataFrame({\"ID\":test_id,\"Cena\": y_pred})\n",
    "print(result)"
   ]
  },
  {
   "cell_type": "markdown",
   "id": "01b0a12e-96b3-4e42-a2e8-bcd57c04a08a",
   "metadata": {},
   "source": [
    "### Saving the result"
   ]
  },
  {
   "cell_type": "code",
   "execution_count": 17,
   "id": "98463143-f57b-46ac-8ea8-18a01ee3b303",
   "metadata": {},
   "outputs": [],
   "source": [
    "result.to_csv(\"result.csv\",index=False, sep=',')"
   ]
  },
  {
   "cell_type": "code",
   "execution_count": null,
   "id": "d802e3f6-aab1-44b0-ae22-f3d69d1b3ce4",
   "metadata": {},
   "outputs": [],
   "source": []
  }
 ],
 "metadata": {
  "kernelspec": {
   "display_name": "Python 3 (ipykernel)",
   "language": "python",
   "name": "python3"
  },
  "language_info": {
   "codemirror_mode": {
    "name": "ipython",
    "version": 3
   },
   "file_extension": ".py",
   "mimetype": "text/x-python",
   "name": "python",
   "nbconvert_exporter": "python",
   "pygments_lexer": "ipython3",
   "version": "3.12.7"
  }
 },
 "nbformat": 4,
 "nbformat_minor": 5
}
